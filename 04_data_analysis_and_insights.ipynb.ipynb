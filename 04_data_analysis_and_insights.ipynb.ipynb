{
 "cells": [
  {
   "cell_type": "code",
   "execution_count": 0,
   "metadata": {
    "application/vnd.databricks.v1+cell": {
     "cellMetadata": {
      "byteLimit": 2048000,
      "rowLimit": 10000
     },
     "inputWidgets": {},
     "nuid": "a4086af1-4760-48de-8d3b-6dd779ba31d7",
     "showTitle": false,
     "tableResultSettingsMap": {},
     "title": ""
    }
   },
   "outputs": [],
   "source": [
    "# 04_data_analysis_and_insights.ipynb - Célula 1: Configuração da SparkSession\n",
    "\n",
    "from pyspark.sql import SparkSession\n",
    "from pyspark.sql.functions import col, explode, from_unixtime, to_date, when, concat_ws, transform, sum as spark_sum, count as spark_count, avg as spark_avg\n",
    "\n",
    "print(\"Bibliotecas importadas com sucesso.\")\n",
    "\n",
    "# A SparkSession já é automaticamente fornecida e configurada pelo Databricks.\n",
    "# Ela já herda o acesso ao S3 via a IAM Role do seu CloudFormation.\n",
    "spark = SparkSession.builder.appName(\"TFTDataAnalysisAndInsights\").getOrCreate()\n",
    "\n",
    "print(\"SparkSession configurada.\")"
   ]
  },
  {
   "cell_type": "code",
   "execution_count": 0,
   "metadata": {
    "application/vnd.databricks.v1+cell": {
     "cellMetadata": {
      "byteLimit": 2048000,
      "rowLimit": 10000
     },
     "inputWidgets": {},
     "nuid": "67d01d1f-99bf-4f49-9447-9b175c7f6d10",
     "showTitle": false,
     "tableResultSettingsMap": {},
     "title": ""
    }
   },
   "outputs": [],
   "source": [
    "# 04_data_analysis_and_insights.ipynb - Célula 2: Carregar Dados Transformados (Tabela Delta)\n",
    "\n",
    "from pyspark.sql.functions import col\n",
    "\n",
    "# Nome completo da sua tabela Delta na camada 'curated' do Unity Catalog\n",
    "UNITY_CATALOG_DELTA_TABLE_NAME = \"tft_analytics.curated.tft_player_performance_delta\"\n",
    "\n",
    "print(f\"Carregando dados da tabela curada '{UNITY_CATALOG_DELTA_TABLE_NAME}'...\")\n",
    "\n",
    "# Carrega o DataFrame a partir da tabela Delta do Unity Catalog\n",
    "df_curated = spark.read.table(UNITY_CATALOG_DELTA_TABLE_NAME)\n",
    "\n",
    "print(f\"Dados curados carregados. Total de registros: {df_curated.count()}\")\n",
    "print(\"\\nEsquema dos dados curados:\")\n",
    "df_curated.printSchema()\n",
    "\n",
    "print(\"\\nExemplo das primeiras 5 linhas dos dados curados:\")\n",
    "display(df_curated.limit(5))"
   ]
  },
  {
   "cell_type": "code",
   "execution_count": 0,
   "metadata": {
    "application/vnd.databricks.v1+cell": {
     "cellMetadata": {
      "byteLimit": 2048000,
      "rowLimit": 10000
     },
     "inputWidgets": {},
     "nuid": "c5bd47bd-8f97-4062-99c2-363f36bb109f",
     "showTitle": false,
     "tableResultSettingsMap": {},
     "title": ""
    }
   },
   "outputs": [],
   "source": [
    "# 04_data_analysis_and_insights.ipynb - Célula 3: Análises de Desempenho Básico\n",
    "\n",
    "from pyspark.sql.functions import count, sum, avg, round, lit\n",
    "\n",
    "print(\"Iniciando análises de desempenho básico...\")\n",
    "\n",
    "# Seu PUUID real para filtrar suas partidas\n",
    "MY_PUUID = \"pPlTg-W4Us3Owj5jTOelDd650T-gA40TUuwdptOo1AhNgMhVkEFK75O-sfYEqIGp2cn_XVJjaYE2Zg\"\n",
    "\n",
    "# 1. Converter o DataFrame para uma View SQL temporária para facilitar consultas SQL\n",
    "df_curated.createOrReplaceTempView(\"tft_player_performance\")\n",
    "\n",
    "# 2. Análise Geral de Colocação (filtrando pelo seu PUUID)\n",
    "print(\"\\n--- Análise Geral de Colocação ---\")\n",
    "spark.sql(f\"\"\"\n",
    "    SELECT\n",
    "        COUNT(*) AS total_games_played,\n",
    "        SUM(CASE WHEN placement = 1 THEN 1 ELSE 0 END) AS num_first_places,\n",
    "        ROUND((SUM(CASE WHEN placement = 1 THEN 1 ELSE 0 END) * 100.0 / COUNT(*)), 2) AS first_place_rate_percent,\n",
    "        SUM(CASE WHEN placement <= 4 THEN 1 ELSE 0 END) AS num_top4_places,\n",
    "        ROUND((SUM(CASE WHEN placement <= 4 THEN 1 ELSE 0 END) * 100.0 / COUNT(*)), 2) AS top4_rate_percent,\n",
    "        ROUND(AVG(placement), 2) AS average_placement\n",
    "    FROM\n",
    "        tft_player_performance\n",
    "    WHERE\n",
    "        puuid = '{MY_PUUID}' -- Usando seu PUUID\n",
    "\"\"\").show()\n",
    "\n",
    "# 3. Análise de Colocação por Versão do Jogo (Patch), filtrando pelo seu PUUID\n",
    "print(\"\\n--- Análise de Colocação por Versão do Jogo (Patch) ---\")\n",
    "spark.sql(f\"\"\"\n",
    "    SELECT\n",
    "        game_version,\n",
    "        COUNT(*) AS total_games,\n",
    "        ROUND(AVG(placement), 2) AS average_placement,\n",
    "        SUM(CASE WHEN placement = 1 THEN 1 ELSE 0 END) AS num_first_places,\n",
    "        ROUND((SUM(CASE WHEN placement = 1 THEN 1 ELSE 0 END) * 100.0 / COUNT(*)), 2) AS first_place_rate_percent,\n",
    "        SUM(CASE WHEN placement <= 4 THEN 1 ELSE 0 END) AS num_top4_places,\n",
    "        ROUND((SUM(CASE WHEN placement <= 4 THEN 1 ELSE 0 END) * 100.0 / COUNT(*)), 2) AS top4_rate_percent\n",
    "    FROM\n",
    "        tft_player_performance\n",
    "    WHERE\n",
    "        puuid = '{MY_PUUID}' -- Usando seu PUUID\n",
    "    GROUP BY\n",
    "        game_version\n",
    "    ORDER BY\n",
    "        average_placement ASC\n",
    "\"\"\").show(truncate=False)\n",
    "\n",
    "# 4. Distribuição das Colocações, filtrando pelo seu PUUID\n",
    "print(\"\\n--- Distribuição das Colocações ---\")\n",
    "spark.sql(f\"\"\"\n",
    "    SELECT\n",
    "        placement,\n",
    "        COUNT(*) AS num_games,\n",
    "        ROUND((COUNT(*) * 100.0 / (SELECT COUNT(*) FROM tft_player_performance WHERE puuid = '{MY_PUUID}')), 2) AS percentage\n",
    "    FROM\n",
    "        tft_player_performance\n",
    "    WHERE\n",
    "        puuid = '{MY_PUUID}' -- Usando seu PUUID\n",
    "    GROUP BY\n",
    "        placement\n",
    "    ORDER BY\n",
    "        placement ASC\n",
    "\"\"\").show()"
   ]
  }
 ],
 "metadata": {
  "application/vnd.databricks.v1+notebook": {
   "computePreferences": null,
   "dashboards": [],
   "environmentMetadata": {
    "base_environment": "",
    "environment_version": "2"
   },
   "inputWidgetPreferences": null,
   "language": "python",
   "notebookMetadata": {
    "pythonIndentUnit": 4
   },
   "notebookName": "04_data_analysis_and_insights.ipynb",
   "widgets": {}
  },
  "language_info": {
   "name": "python"
  }
 },
 "nbformat": 4,
 "nbformat_minor": 0
}
