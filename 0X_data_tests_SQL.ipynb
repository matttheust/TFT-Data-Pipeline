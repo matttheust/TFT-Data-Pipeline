{
 "cells": [
  {
   "cell_type": "code",
   "execution_count": 0,
   "metadata": {
    "application/vnd.databricks.v1+cell": {
     "cellMetadata": {
      "byteLimit": 2048000,
      "implicitDf": true,
      "rowLimit": 10000
     },
     "inputWidgets": {},
     "nuid": "06195ff5-b27a-4d5a-808c-2b6a2d545054",
     "showTitle": false,
     "tableResultSettingsMap": {},
     "title": ""
    }
   },
   "outputs": [],
   "source": [
    "%sql\n",
    "\n",
    "SELECT * FROM tft_analytics.raw.tft_matches_raw LIMIT ;\n"
   ]
  },
  {
   "cell_type": "code",
   "execution_count": 0,
   "metadata": {
    "application/vnd.databricks.v1+cell": {
     "cellMetadata": {
      "byteLimit": 2048000,
      "rowLimit": 10000
     },
     "inputWidgets": {},
     "nuid": "7d5d3e52-7ccb-4f6a-a763-14dd4b94c8bb",
     "showTitle": false,
     "tableResultSettingsMap": {},
     "title": ""
    }
   },
   "outputs": [],
   "source": [
    "# -0X_data_tests_SQL.ipynb - Célula para Testar a Tabela Raw no Unity Catalog (PySpark)\n",
    "\n",
    "# Certifique-se de que a SparkSession está ativa (Célula 1 de qualquer notebook Databricks já faz isso)\n",
    "\n",
    "print(\"--- Testando a Tabela Raw no Unity Catalog (PySpark) ---\")\n",
    "\n",
    "# 1. Listar todas as tabelas no esquema 'raw' do catálogo 'tft_analytics'\n",
    "print(\"\\n1. Tabelas no esquema 'tft_analytics.raw':\")\n",
    "spark.sql(\"SHOW TABLES IN tft_analytics.raw\").show(truncate=False)\n",
    "\n",
    "# 2. Descrever o esquema da sua tabela raw\n",
    "print(\"\\n2. Esquema estendido da tabela 'tft_analytics.raw.tft_matches_raw':\")\n",
    "spark.sql(\"DESCRIBE EXTENDED tft_analytics.raw.tft_matches_raw\").show(truncate=False)\n",
    "\n",
    "# 3. Contar o número de registros na tabela raw\n",
    "print(\"\\n3. Contagem de registros na tabela 'tft_analytics.raw.tft_matches_raw':\")\n",
    "spark.sql(\"SELECT COUNT(*) FROM tft_analytics.raw.tft_matches_raw\").show()\n",
    "\n",
    "# 4. Visualizar as primeiras linhas da tabela raw\n",
    "print(\"\\n4. Primeiras 5 linhas da tabela 'tft_analytics.raw.tft_matches_raw':\")\n",
    "spark.sql(\"SELECT * FROM tft_analytics.raw.tft_matches_raw LIMIT 5\").show(truncate=False)\n",
    "\n",
    "print(\"\\n--- Testes concluídos ---\")\n"
   ]
  },
  {
   "cell_type": "code",
   "execution_count": 0,
   "metadata": {
    "application/vnd.databricks.v1+cell": {
     "cellMetadata": {
      "byteLimit": 2048000,
      "rowLimit": 10000
     },
     "inputWidgets": {},
     "nuid": "caafeca8-7a72-4ae3-b07a-34516e71ffbc",
     "showTitle": false,
     "tableResultSettingsMap": {},
     "title": ""
    }
   },
   "outputs": [],
   "source": [
    "# Célula para verificar duplicatas pelo match_id na tabela raw\n",
    "\n",
    "print(\"Verificando se há IDs de partida duplicados na tabela raw...\")\n",
    "\n",
    "# Consulta SQL para encontrar match_ids duplicados\n",
    "duplicate_match_ids_query = spark.sql(f\"\"\"\n",
    "    SELECT\n",
    "        metadata.match_id AS MatchID,\n",
    "        COUNT(*) AS NumOccurrences\n",
    "    FROM\n",
    "        tft_analytics.raw.tft_matches_raw\n",
    "    GROUP BY\n",
    "        metadata.match_id\n",
    "    HAVING\n",
    "        COUNT(*) > 1\n",
    "\"\"\")\n",
    "\n",
    "# Exibir os resultados\n",
    "if duplicate_match_ids_query.count() > 0:\n",
    "    print(\"\\nAVISO: Duplicatas encontradas na tabela raw (pelo MatchID)! Detalhes:\")\n",
    "    display(duplicate_match_ids_query)\n",
    "else:\n",
    "    print(\"\\nNenhuma duplicata de MatchID encontrada na tabela raw. Os dados estão únicos.\")"
   ]
  }
 ],
 "metadata": {
  "application/vnd.databricks.v1+notebook": {
   "computePreferences": null,
   "dashboards": [],
   "environmentMetadata": {
    "base_environment": "",
    "environment_version": "2"
   },
   "inputWidgetPreferences": null,
   "language": "python",
   "notebookMetadata": {
    "mostRecentlyExecutedCommandWithImplicitDF": {
     "commandId": 7198201914007221,
     "dataframes": [
      "_sqldf"
     ]
    },
    "pythonIndentUnit": 4
   },
   "notebookName": "0X_data_tests_SQL",
   "widgets": {}
  },
  "language_info": {
   "name": "python"
  }
 },
 "nbformat": 4,
 "nbformat_minor": 0
}
